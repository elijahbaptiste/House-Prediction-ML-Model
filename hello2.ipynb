{
 "cells": [
  {
   "cell_type": "code",
   "execution_count": 21,
   "metadata": {},
   "outputs": [],
   "source": [
    "import pandas as pd\n",
    "pd.options.mode.chained_assignment = None  # default='warn'\n",
    "import numpy as np\n",
    "import tensorflow\n",
    "import mlxtend\n",
    "from scipy import stats\n",
    "from mlxtend.preprocessing import minmax_scaling\n",
    "from tensorflow import keras\n",
    "from sklearn.ensemble import RandomForestRegressor\n",
    "from sklearn.metrics import mean_absolute_error\n",
    "from keras import layers\n",
    "from keras.layers import Dense\n",
    "from sklearn.model_selection import train_test_split\n",
    "from sklearn.preprocessing import StandardScaler\n",
    "from sklearn.preprocessing import MinMaxScaler"
   ]
  },
  {
   "cell_type": "code",
   "execution_count": 22,
   "metadata": {},
   "outputs": [
    {
     "data": {
      "text/html": [
       "<div>\n",
       "<style scoped>\n",
       "    .dataframe tbody tr th:only-of-type {\n",
       "        vertical-align: middle;\n",
       "    }\n",
       "\n",
       "    .dataframe tbody tr th {\n",
       "        vertical-align: top;\n",
       "    }\n",
       "\n",
       "    .dataframe thead th {\n",
       "        text-align: right;\n",
       "    }\n",
       "</style>\n",
       "<table border=\"1\" class=\"dataframe\">\n",
       "  <thead>\n",
       "    <tr style=\"text-align: right;\">\n",
       "      <th></th>\n",
       "      <th>status</th>\n",
       "      <th>bed</th>\n",
       "      <th>bath</th>\n",
       "      <th>acre_lot</th>\n",
       "      <th>city</th>\n",
       "      <th>state</th>\n",
       "      <th>zip_code</th>\n",
       "      <th>house_size</th>\n",
       "      <th>prev_sold_date</th>\n",
       "      <th>price</th>\n",
       "    </tr>\n",
       "  </thead>\n",
       "  <tbody>\n",
       "    <tr>\n",
       "      <th>0</th>\n",
       "      <td>for_sale</td>\n",
       "      <td>3.0</td>\n",
       "      <td>2.0</td>\n",
       "      <td>0.12</td>\n",
       "      <td>Adjuntas</td>\n",
       "      <td>Puerto Rico</td>\n",
       "      <td>601.0</td>\n",
       "      <td>920.0</td>\n",
       "      <td>NaN</td>\n",
       "      <td>105000.0</td>\n",
       "    </tr>\n",
       "    <tr>\n",
       "      <th>1</th>\n",
       "      <td>for_sale</td>\n",
       "      <td>4.0</td>\n",
       "      <td>2.0</td>\n",
       "      <td>0.08</td>\n",
       "      <td>Adjuntas</td>\n",
       "      <td>Puerto Rico</td>\n",
       "      <td>601.0</td>\n",
       "      <td>1527.0</td>\n",
       "      <td>NaN</td>\n",
       "      <td>80000.0</td>\n",
       "    </tr>\n",
       "    <tr>\n",
       "      <th>2</th>\n",
       "      <td>for_sale</td>\n",
       "      <td>2.0</td>\n",
       "      <td>1.0</td>\n",
       "      <td>0.15</td>\n",
       "      <td>Juana Diaz</td>\n",
       "      <td>Puerto Rico</td>\n",
       "      <td>795.0</td>\n",
       "      <td>748.0</td>\n",
       "      <td>NaN</td>\n",
       "      <td>67000.0</td>\n",
       "    </tr>\n",
       "    <tr>\n",
       "      <th>3</th>\n",
       "      <td>for_sale</td>\n",
       "      <td>4.0</td>\n",
       "      <td>2.0</td>\n",
       "      <td>0.10</td>\n",
       "      <td>Ponce</td>\n",
       "      <td>Puerto Rico</td>\n",
       "      <td>731.0</td>\n",
       "      <td>1800.0</td>\n",
       "      <td>NaN</td>\n",
       "      <td>145000.0</td>\n",
       "    </tr>\n",
       "    <tr>\n",
       "      <th>4</th>\n",
       "      <td>for_sale</td>\n",
       "      <td>6.0</td>\n",
       "      <td>2.0</td>\n",
       "      <td>0.05</td>\n",
       "      <td>Mayaguez</td>\n",
       "      <td>Puerto Rico</td>\n",
       "      <td>680.0</td>\n",
       "      <td>NaN</td>\n",
       "      <td>NaN</td>\n",
       "      <td>65000.0</td>\n",
       "    </tr>\n",
       "  </tbody>\n",
       "</table>\n",
       "</div>"
      ],
      "text/plain": [
       "     status  bed  bath  acre_lot        city        state  zip_code  \\\n",
       "0  for_sale  3.0   2.0      0.12    Adjuntas  Puerto Rico     601.0   \n",
       "1  for_sale  4.0   2.0      0.08    Adjuntas  Puerto Rico     601.0   \n",
       "2  for_sale  2.0   1.0      0.15  Juana Diaz  Puerto Rico     795.0   \n",
       "3  for_sale  4.0   2.0      0.10       Ponce  Puerto Rico     731.0   \n",
       "4  for_sale  6.0   2.0      0.05    Mayaguez  Puerto Rico     680.0   \n",
       "\n",
       "   house_size prev_sold_date     price  \n",
       "0       920.0            NaN  105000.0  \n",
       "1      1527.0            NaN   80000.0  \n",
       "2       748.0            NaN   67000.0  \n",
       "3      1800.0            NaN  145000.0  \n",
       "4         NaN            NaN   65000.0  "
      ]
     },
     "execution_count": 22,
     "metadata": {},
     "output_type": "execute_result"
    }
   ],
   "source": [
    "data = pd.read_csv('realtor-data.zip.csv')\n",
    "\n",
    "data.head()"
   ]
  },
  {
   "cell_type": "markdown",
   "metadata": {},
   "source": [
    "Removing the irrelevant data columns that won't be used in the model"
   ]
  },
  {
   "cell_type": "code",
   "execution_count": 23,
   "metadata": {},
   "outputs": [
    {
     "data": {
      "text/plain": [
       "<bound method NDFrame.describe of          bed  bath  acre_lot          city        state  house_size     price\n",
       "0        3.0   2.0      0.12      Adjuntas  Puerto Rico       920.0  105000.0\n",
       "1        4.0   2.0      0.08      Adjuntas  Puerto Rico      1527.0   80000.0\n",
       "2        2.0   1.0      0.15    Juana Diaz  Puerto Rico       748.0   67000.0\n",
       "3        4.0   2.0      0.10         Ponce  Puerto Rico      1800.0  145000.0\n",
       "4        6.0   2.0      0.05      Mayaguez  Puerto Rico         NaN   65000.0\n",
       "...      ...   ...       ...           ...          ...         ...       ...\n",
       "1004961  2.0   1.0       NaN    Bronxville     New York       950.0  249000.0\n",
       "1004962  3.0   2.0      0.14  Port Chester     New York      1806.0  599000.0\n",
       "1004963  4.0   4.0      0.36    Park Ridge   New Jersey         NaN  749000.0\n",
       "1004964  3.0   2.0      0.21       Yonkers     New York      1797.0  640000.0\n",
       "1004965  NaN   1.0       NaN      Flushing     New York         NaN  226000.0\n",
       "\n",
       "[1004966 rows x 7 columns]>"
      ]
     },
     "execution_count": 23,
     "metadata": {},
     "output_type": "execute_result"
    }
   ],
   "source": [
    "clean_dataV1 = data.drop(columns = [\"status\", \"zip_code\", \"prev_sold_date\"])\n",
    "clean_dataV1.describe"
   ]
  },
  {
   "cell_type": "markdown",
   "metadata": {},
   "source": [
    "Going to check for any inconsistencies or empty data entries in the dataframe"
   ]
  },
  {
   "cell_type": "code",
   "execution_count": 24,
   "metadata": {},
   "outputs": [
    {
     "data": {
      "text/plain": [
       "bed           140531\n",
       "bath          122850\n",
       "acre_lot      295046\n",
       "city              75\n",
       "state              0\n",
       "house_size    323284\n",
       "price             71\n",
       "dtype: int64"
      ]
     },
     "execution_count": 24,
     "metadata": {},
     "output_type": "execute_result"
    }
   ],
   "source": [
    "missing_values_count = clean_dataV1.isnull().sum()\n",
    "\n",
    "# of missing points in the first ten columns\n",
    "missing_values_count[0:10]"
   ]
  },
  {
   "cell_type": "markdown",
   "metadata": {},
   "source": [
    "Removing all the rows with incomplete data entries"
   ]
  },
  {
   "cell_type": "code",
   "execution_count": 25,
   "metadata": {},
   "outputs": [
    {
     "data": {
      "text/plain": [
       "<bound method NDFrame.describe of          bed  bath  acre_lot           city        state  house_size     price\n",
       "0        3.0   2.0      0.12       Adjuntas  Puerto Rico       920.0  105000.0\n",
       "1        4.0   2.0      0.08       Adjuntas  Puerto Rico      1527.0   80000.0\n",
       "2        2.0   1.0      0.15     Juana Diaz  Puerto Rico       748.0   67000.0\n",
       "3        4.0   2.0      0.10          Ponce  Puerto Rico      1800.0  145000.0\n",
       "5        4.0   3.0      0.46  San Sebastian  Puerto Rico      2520.0  179000.0\n",
       "...      ...   ...       ...            ...          ...         ...       ...\n",
       "1004958  2.0   2.0      0.05      Tarrytown     New York      1337.0  505000.0\n",
       "1004959  2.0   1.0      0.14   White Plains     New York       730.0  332500.0\n",
       "1004960  3.0   2.0      0.11      Scarsdale     New York      1578.0  699000.0\n",
       "1004962  3.0   2.0      0.14   Port Chester     New York      1806.0  599000.0\n",
       "1004964  3.0   2.0      0.21        Yonkers     New York      1797.0  640000.0\n",
       "\n",
       "[461371 rows x 7 columns]>"
      ]
     },
     "execution_count": 25,
     "metadata": {},
     "output_type": "execute_result"
    }
   ],
   "source": [
    "clean_dataV1.dropna(inplace=True)\n",
    "clean_dataV1.describe"
   ]
  },
  {
   "cell_type": "markdown",
   "metadata": {},
   "source": [
    "left with a little less than half of our original data "
   ]
  },
  {
   "cell_type": "code",
   "execution_count": 26,
   "metadata": {},
   "outputs": [
    {
     "data": {
      "text/plain": [
       "bed           0\n",
       "bath          0\n",
       "acre_lot      0\n",
       "city          0\n",
       "state         0\n",
       "house_size    0\n",
       "price         0\n",
       "dtype: int64"
      ]
     },
     "execution_count": 26,
     "metadata": {},
     "output_type": "execute_result"
    }
   ],
   "source": [
    "missing_values_count = clean_dataV1.isnull().sum()\n",
    "\n",
    "# of missing points in the first ten columns\n",
    "missing_values_count[0:10]"
   ]
  },
  {
   "cell_type": "markdown",
   "metadata": {},
   "source": [
    "Data looks good now, no more empty rows "
   ]
  },
  {
   "cell_type": "code",
   "execution_count": 27,
   "metadata": {},
   "outputs": [
    {
     "data": {
      "text/plain": [
       "2305"
      ]
     },
     "execution_count": 27,
     "metadata": {},
     "output_type": "execute_result"
    }
   ],
   "source": [
    "clean_dataV1.city.unique().size"
   ]
  },
  {
   "cell_type": "code",
   "execution_count": 28,
   "metadata": {},
   "outputs": [
    {
     "data": {
      "text/plain": [
       "14"
      ]
     },
     "execution_count": 28,
     "metadata": {},
     "output_type": "execute_result"
    }
   ],
   "source": [
    "clean_dataV1.state.unique().size"
   ]
  },
  {
   "cell_type": "markdown",
   "metadata": {},
   "source": [
    "Taking note of how many different cities and states are in our data. Am going to use these numbers to translate the names of citeies and states into numbers that the model can understand"
   ]
  },
  {
   "cell_type": "code",
   "execution_count": 29,
   "metadata": {},
   "outputs": [
    {
     "data": {
      "text/plain": [
       "array(['Adjuntas', 'Juana Diaz', 'Ponce', ..., 'Clintondale',\n",
       "       'Grahamsville', 'Fallsburg'], dtype=object)"
      ]
     },
     "execution_count": 29,
     "metadata": {},
     "output_type": "execute_result"
    }
   ],
   "source": [
    "clean_dataV1.city.unique()"
   ]
  },
  {
   "cell_type": "code",
   "execution_count": 30,
   "metadata": {},
   "outputs": [
    {
     "data": {
      "text/plain": [
       "array(['Puerto Rico', 'Virgin Islands', 'Massachusetts', 'Connecticut',\n",
       "       'New Jersey', 'New York', 'New Hampshire', 'Vermont',\n",
       "       'Rhode Island', 'Wyoming', 'Maine', 'Pennsylvania',\n",
       "       'West Virginia', 'Delaware'], dtype=object)"
      ]
     },
     "execution_count": 30,
     "metadata": {},
     "output_type": "execute_result"
    }
   ],
   "source": [
    "clean_dataV1.state.unique()"
   ]
  },
  {
   "cell_type": "code",
   "execution_count": 31,
   "metadata": {},
   "outputs": [],
   "source": [
    "states = [14]\n",
    "states = clean_dataV1.state.unique()\n",
    "o = 0\n",
    "\n",
    "for x in states:\n",
    "    clean_dataV1.state[clean_dataV1.state == x] =  o \n",
    "    o+= 1"
   ]
  },
  {
   "cell_type": "code",
   "execution_count": 32,
   "metadata": {},
   "outputs": [],
   "source": [
    "cities = [2305]\n",
    "cities = clean_dataV1.city.unique()\n",
    "o = 0\n",
    "\n",
    "for x in cities:\n",
    "    clean_dataV1.city[clean_dataV1.city == x] =  o \n",
    "    o+= 1"
   ]
  },
  {
   "cell_type": "code",
   "execution_count": 33,
   "metadata": {},
   "outputs": [
    {
     "data": {
      "text/plain": [
       "array([0, 1, 2, 3, 4, 5, 6, 7, 8, 9, 10, 11, 12, 13], dtype=object)"
      ]
     },
     "execution_count": 33,
     "metadata": {},
     "output_type": "execute_result"
    }
   ],
   "source": [
    "clean_dataV1.state.unique()"
   ]
  },
  {
   "cell_type": "code",
   "execution_count": 34,
   "metadata": {},
   "outputs": [
    {
     "data": {
      "text/plain": [
       "array([0, 1, 2, ..., 2302, 2303, 2304], dtype=object)"
      ]
     },
     "execution_count": 34,
     "metadata": {},
     "output_type": "execute_result"
    }
   ],
   "source": [
    "clean_dataV1.city.unique()"
   ]
  },
  {
   "cell_type": "markdown",
   "metadata": {},
   "source": [
    "Now all of the cities and states in the data each  correspond to a unique number"
   ]
  },
  {
   "cell_type": "code",
   "execution_count": 35,
   "metadata": {},
   "outputs": [
    {
     "data": {
      "text/plain": [
       "<bound method NDFrame.describe of          bed  bath  acre_lot  city state  house_size     price\n",
       "0        3.0   2.0      0.12     0     0       920.0  105000.0\n",
       "1        4.0   2.0      0.08     0     0      1527.0   80000.0\n",
       "2        2.0   1.0      0.15     1     0       748.0   67000.0\n",
       "3        4.0   2.0      0.10     2     0      1800.0  145000.0\n",
       "5        4.0   3.0      0.46     3     0      2520.0  179000.0\n",
       "...      ...   ...       ...   ...   ...         ...       ...\n",
       "1004958  2.0   2.0      0.05  1627     5      1337.0  505000.0\n",
       "1004959  2.0   1.0      0.14  1666     5       730.0  332500.0\n",
       "1004960  3.0   2.0      0.11  1667     5      1578.0  699000.0\n",
       "1004962  3.0   2.0      0.14  2238     5      1806.0  599000.0\n",
       "1004964  3.0   2.0      0.21  1490     5      1797.0  640000.0\n",
       "\n",
       "[461371 rows x 7 columns]>"
      ]
     },
     "execution_count": 35,
     "metadata": {},
     "output_type": "execute_result"
    }
   ],
   "source": [
    "clean_dataV1.describe"
   ]
  },
  {
   "cell_type": "code",
   "execution_count": 36,
   "metadata": {},
   "outputs": [
    {
     "data": {
      "text/plain": [
       "<bound method NDFrame.describe of               bed      bath      acre_lot      city     state  house_size\n",
       "0        0.020408  0.005076  1.200000e-06  0.000000  0.000000    0.000550\n",
       "1        0.030612  0.005076  8.000000e-07  0.000000  0.000000    0.000969\n",
       "2        0.010204  0.000000  1.500000e-06  0.000434  0.000000    0.000432\n",
       "3        0.030612  0.005076  1.000000e-06  0.000868  0.000000    0.001157\n",
       "5        0.030612  0.010152  4.600000e-06  0.001302  0.000000    0.001654\n",
       "...           ...       ...           ...       ...       ...         ...\n",
       "1004958  0.010204  0.005076  5.000000e-07  0.706163  0.384615    0.000838\n",
       "1004959  0.010204  0.000000  1.400000e-06  0.723090  0.384615    0.000419\n",
       "1004960  0.020408  0.005076  1.100000e-06  0.723524  0.384615    0.001004\n",
       "1004962  0.020408  0.005076  1.400000e-06  0.971354  0.384615    0.001161\n",
       "1004964  0.020408  0.005076  2.100000e-06  0.646701  0.384615    0.001155\n",
       "\n",
       "[461371 rows x 6 columns]>"
      ]
     },
     "execution_count": 36,
     "metadata": {},
     "output_type": "execute_result"
    }
   ],
   "source": [
    "#Scaling data form 0- 1 \n",
    "\n",
    "Scaled_Clean_Data = minmax_scaling(clean_dataV1,columns=['bed','bath','acre_lot', \"city\", \"state\", \"house_size\"])\n",
    "\n",
    "# Setting up the predicition input and results as X and y\n",
    "y = clean_dataV1.price\n",
    "\n",
    "X = Scaled_Clean_Data\n",
    "X.describe"
   ]
  },
  {
   "cell_type": "markdown",
   "metadata": {},
   "source": [
    "Rescaled all of the data values so that different features like the house size don't  skew the models predictions"
   ]
  },
  {
   "cell_type": "code",
   "execution_count": 37,
   "metadata": {},
   "outputs": [
    {
     "data": {
      "text/plain": [
       "<bound method NDFrame.head of              bed      bath      acre_lot      city     state  house_size\n",
       "918629  0.030612  0.020305  1.700000e-05  0.566840  0.384615    0.004583\n",
       "916152  0.030612  0.005076  9.000000e-07  0.976997  0.384615    0.000931\n",
       "633261  0.020408  0.010152  1.100000e-06  0.815104  0.307692    0.001370\n",
       "821544  0.071429  0.010152  2.000000e-07  0.592014  0.384615    0.001685\n",
       "329623  0.020408  0.010152  1.010000e-04  0.127170  0.538462    0.001367\n",
       "...          ...       ...           ...       ...       ...         ...\n",
       "244367  0.030612  0.015228  1.260000e-05  0.133681  0.461538    0.002308\n",
       "953593  0.040816  0.030457  1.280000e-05  0.721354  0.384615    0.004816\n",
       "199843  0.030612  0.005076  1.100000e-06  0.263021  0.153846    0.001171\n",
       "948694  0.030612  0.010152  8.000000e-07  0.728733  0.384615    0.001978\n",
       "571398  0.010204  0.010152  2.600000e-04  0.623264  0.307692    0.001157\n",
       "\n",
       "[346028 rows x 6 columns]>"
      ]
     },
     "execution_count": 37,
     "metadata": {},
     "output_type": "execute_result"
    }
   ],
   "source": [
    "#Splits data into Training and testing data sets\n",
    "\n",
    "train_X, val_X, train_y, val_y = train_test_split(X,y,random_state=0)\n",
    "train_X.head"
   ]
  },
  {
   "cell_type": "markdown",
   "metadata": {},
   "source": [
    "Split the data up into to use for testing training. Split was done randomly to try and remove bias that may be in the data"
   ]
  },
  {
   "cell_type": "code",
   "execution_count": 38,
   "metadata": {},
   "outputs": [],
   "source": [
    "Algo_model = RandomForestRegressor(random_state=1)"
   ]
  },
  {
   "cell_type": "markdown",
   "metadata": {},
   "source": [
    "Using a random forest model to get more accurate predicitons"
   ]
  },
  {
   "cell_type": "code",
   "execution_count": 39,
   "metadata": {},
   "outputs": [],
   "source": [
    "Algo_model.fit(train_X, train_y)"
   ]
  },
  {
   "cell_type": "code",
   "execution_count": null,
   "metadata": {},
   "outputs": [
    {
     "data": {
      "text/plain": [
       "array([825000., 335000., 850000., ..., 685000., 359900., 899000.])"
      ]
     },
     "execution_count": 97,
     "metadata": {},
     "output_type": "execute_result"
    }
   ],
   "source": [
    "Algo_model.predict(val_X)"
   ]
  },
  {
   "cell_type": "code",
   "execution_count": null,
   "metadata": {},
   "outputs": [
    {
     "data": {
      "text/plain": [
       "17848.11507305112"
      ]
     },
     "execution_count": 98,
     "metadata": {},
     "output_type": "execute_result"
    }
   ],
   "source": [
    "predicted_home_prices = Algo_model.predict(val_X)\n",
    "mean_absolute_error(val_y, predicted_home_prices)"
   ]
  },
  {
   "cell_type": "markdown",
   "metadata": {},
   "source": [
    "After training the model, we get an average guess that is within $180,000 of the acutal price of the home"
   ]
  }
 ],
 "metadata": {
  "kernelspec": {
   "display_name": "myenv",
   "language": "python",
   "name": "python3"
  },
  "language_info": {
   "codemirror_mode": {
    "name": "ipython",
    "version": 3
   },
   "file_extension": ".py",
   "mimetype": "text/x-python",
   "name": "python",
   "nbconvert_exporter": "python",
   "pygments_lexer": "ipython3",
   "version": "3.10.13"
  }
 },
 "nbformat": 4,
 "nbformat_minor": 2
}
